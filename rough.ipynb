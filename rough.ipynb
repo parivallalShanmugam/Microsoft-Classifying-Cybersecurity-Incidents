{
 "cells": [
  {
   "cell_type": "code",
   "execution_count": 1,
   "metadata": {},
   "outputs": [
    {
     "name": "stdout",
     "output_type": "stream",
     "text": [
      "F-Statistic: 23.053571428571434\n",
      "P-Value: 1.0846628152200093e-05\n",
      "Reject the null hypothesis: At least one group mean is significantly different.\n"
     ]
    }
   ],
   "source": [
    "import numpy as np\n",
    "from scipy import stats\n",
    "\n",
    "# Example data: three groups\n",
    "group1 = [20, 23, 22, 24, 25, 23, 26]\n",
    "group2 = [27, 30, 29, 31, 28, 29, 30]\n",
    "group3 = [24, 26, 27, 25, 23, 26, 27]\n",
    "\n",
    "# Perform the one-way ANOVA\n",
    "f_statistic, p_value = stats.f_oneway(group1, group2, group3)\n",
    "\n",
    "# Output the results\n",
    "print(f\"F-Statistic: {f_statistic}\")\n",
    "print(f\"P-Value: {p_value}\")\n",
    "\n",
    "# Interpretation\n",
    "if p_value < 0.05:\n",
    "    print(\"Reject the null hypothesis: At least one group mean is significantly different.\")\n",
    "else:\n",
    "    print(\"Fail to reject the null hypothesis: No significant difference between group means.\")\n"
   ]
  }
 ],
 "metadata": {
  "kernelspec": {
   "display_name": "Python 3",
   "language": "python",
   "name": "python3"
  },
  "language_info": {
   "codemirror_mode": {
    "name": "ipython",
    "version": 3
   },
   "file_extension": ".py",
   "mimetype": "text/x-python",
   "name": "python",
   "nbconvert_exporter": "python",
   "pygments_lexer": "ipython3",
   "version": "3.12.2"
  }
 },
 "nbformat": 4,
 "nbformat_minor": 2
}
